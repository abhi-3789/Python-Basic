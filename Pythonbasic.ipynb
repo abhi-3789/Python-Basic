{
  "nbformat": 4,
  "nbformat_minor": 0,
  "metadata": {
    "colab": {
      "provenance": []
    },
    "kernelspec": {
      "name": "python3",
      "display_name": "Python 3"
    },
    "language_info": {
      "name": "python"
    }
  },
  "cells": [
    {
      "cell_type": "code",
      "execution_count": null,
      "metadata": {
        "id": "a9dsrNMI28JY"
      },
      "outputs": [],
      "source": [
        "# ques(1)\n",
        "#What is Python, and why is it popular ?\n",
        "\"\"\"python is a popular programming language known for its readability and versatility.\n",
        "it is created by Guido van Rossum, in 1991.\n",
        "\n",
        "it is popular for -:\n",
        "1.it is widely used in industry\n",
        "2.large community support\n",
        "3.known for lots of libraries\n",
        "4.esay to learn\n",
        "\"\"\"\n",
        "\n"
      ]
    },
    {
      "cell_type": "code",
      "source": [
        "# Ques(2)\n",
        "#What is an interpreter in Python?\n",
        "\"\"\"\n",
        "In python interpreter is a program that directly excutes code written in the python.\n",
        "it read and excutes the code line by line instead of converting entire program at once\n",
        "\"\"\"\n"
      ],
      "metadata": {
        "id": "K2aoLDG45eyw"
      },
      "execution_count": null,
      "outputs": []
    },
    {
      "cell_type": "code",
      "source": [
        "#Ques(3)\n",
        "#What are pre-defined keywords in Python?\n",
        "\"\"\"\n",
        "Pre-defined keywords in python are sets of words that hold special meaning and function in python.\n",
        "These pre-defined keywords cannot be used as variable names.\n",
        "keywords are if,else,elif,print,for, True,False,None,etc.\n",
        "\"\"\""
      ],
      "metadata": {
        "id": "YAHpyS4h6X4g"
      },
      "execution_count": null,
      "outputs": []
    },
    {
      "cell_type": "code",
      "source": [
        "#Ques(4)\n",
        "# Can keywords be used as variable names?\n",
        "\"\"\"\n",
        "No, keywords cannot be used as variable names.\n",
        "\"\"\""
      ],
      "metadata": {
        "id": "oPb2o11u7Usb"
      },
      "execution_count": null,
      "outputs": []
    },
    {
      "cell_type": "code",
      "source": [
        "#Ques(5)\n",
        "#What is mutability in Python?\n",
        "\"\"\"\n",
        "Mutability in python are that change after creation of object.\n",
        " lists and dictionaries are mutable in python .\n",
        "\"\"\""
      ],
      "metadata": {
        "id": "S4eq0qbm7fGs"
      },
      "execution_count": null,
      "outputs": []
    },
    {
      "cell_type": "code",
      "source": [
        "#QUES(6)\n",
        "#Why are lists mutable, but tuples are immutable?\n",
        "\"\"\"\n",
        "List are mutable beacause its desgin that function in python for list that,\n",
        "we can modify the list but in tuples these function are not build thats why we\n",
        "cannot modify the tuple.\n",
        "\"\"\""
      ],
      "metadata": {
        "id": "9-w44t3q8GTI"
      },
      "execution_count": null,
      "outputs": []
    },
    {
      "cell_type": "code",
      "source": [
        "#Ques(7)\n",
        "#What is the difference between “==” and “is” operators in Python?\n",
        "\"\"\"\n",
        "'==' refers to a quality operators that means it check the value of two object is same ,\n",
        "but 'is' operators is  compare identity of two object.\n",
        "\"\"\""
      ],
      "metadata": {
        "id": "DPy0GuxH9hXD"
      },
      "execution_count": null,
      "outputs": []
    },
    {
      "cell_type": "code",
      "source": [
        "#Ques(8)\n",
        "#What are logical operators in Python?\n",
        "\"\"\"\n",
        "logical operators in python are and,or,not.\n",
        "\"\"\""
      ],
      "metadata": {
        "id": "Mg34Wi1b-kRj"
      },
      "execution_count": null,
      "outputs": []
    },
    {
      "cell_type": "code",
      "source": [
        "#Ques(9)\n",
        "#What is type casting in Python?\n",
        "\"\"\"\n",
        "Type casting refers to converting data type of one object to another.\n",
        "that mean converting int to float or float to int.\n",
        "\n",
        "\"\"\""
      ],
      "metadata": {
        "id": "NSe8XB0g-8lS"
      },
      "execution_count": null,
      "outputs": []
    },
    {
      "cell_type": "code",
      "source": [
        "#Ques(10)\n",
        "#What is the difference between implicit and explicit type casting?\n",
        "\"\"\"\n",
        "Implicit type casting that python automatically convert one data type to another,\n",
        "where as explicit type casting refers to manually convert one data type to another.\n",
        "\"\"\""
      ],
      "metadata": {
        "id": "_97G2Fy0_hoa"
      },
      "execution_count": null,
      "outputs": []
    },
    {
      "cell_type": "code",
      "source": [
        "#Ques(11)\n",
        "#8 What is the purpose of conditional statements in Python?\n",
        "\"\"\"\n",
        "The main purpose of conditional statement in python is make a decision and excute\n",
        "different code based on different condition.\n",
        "\"\"\""
      ],
      "metadata": {
        "id": "3pfrw-oaAPhQ"
      },
      "execution_count": null,
      "outputs": []
    },
    {
      "cell_type": "code",
      "source": [
        "#Ques(12)\n",
        "#8 How does the elif statement work?\n",
        "\"\"\"\n",
        "elif statemnet refer to 'else if'.\n",
        "It is used when we have multiple condition to check.\n",
        "structure of elif statement:\n",
        "if condition:\n",
        "    code\n",
        "elif condition:\n",
        "    code\n",
        "else:\n",
        "    code\n",
        "\"\"\""
      ],
      "metadata": {
        "id": "jE0OcyJkAx1Y"
      },
      "execution_count": null,
      "outputs": []
    },
    {
      "cell_type": "code",
      "source": [
        "#Ques(13)\n",
        "# What is the difference between for and while loops?\n",
        "\"\"\"\n",
        "while loops is used to repeat a code untill condition is met,\n",
        "where as for loop is used to repeat a code for a specific number of times.\n",
        "structure of while loop:\n",
        "while condition:\n",
        "    code\n",
        "structure of for loop:\n",
        "for i in range(10):\n",
        "    code\n",
        "\"\"\""
      ],
      "metadata": {
        "id": "qf22HsHsBqBm"
      },
      "execution_count": null,
      "outputs": []
    },
    {
      "cell_type": "code",
      "source": [
        "#Ques(14)\n",
        "# Describe a scenario where a while loop is more suitable than a for loop?\n",
        "\"\"\"\n",
        "while loop is more suitable when you don't know that how many time you need to\n",
        "repeat the code.\n",
        "for example\n",
        "Asking a user for password untill the password is correct.\n",
        "\"\"\""
      ],
      "metadata": {
        "id": "qD8w8G5BCb6z"
      },
      "execution_count": null,
      "outputs": []
    },
    {
      "cell_type": "code",
      "source": [],
      "metadata": {
        "id": "oyGNX5nYDelv"
      },
      "execution_count": null,
      "outputs": []
    },
    {
      "cell_type": "markdown",
      "source": [
        "PRACTICAL QUESTION\n"
      ],
      "metadata": {
        "id": "1g-4ykkODnpu"
      }
    },
    {
      "cell_type": "code",
      "source": [
        "#Ques(1)\n",
        "#Write a Python program to print \"Hello, World!\n",
        "print(\"Hello, World!\")"
      ],
      "metadata": {
        "colab": {
          "base_uri": "https://localhost:8080/"
        },
        "id": "Gd6JQmYpDqmy",
        "outputId": "ebeb42db-5219-4c8a-e3c6-7c9a75b84bee"
      },
      "execution_count": 4,
      "outputs": [
        {
          "output_type": "stream",
          "name": "stdout",
          "text": [
            "Hello, World!\n"
          ]
        }
      ]
    },
    {
      "cell_type": "code",
      "source": [
        "#Ques(2)\n",
        "#Write a Python program that displays your name and age?\n",
        "name=input(\"Enter your name: \")\n",
        "age=int(input(\"Enter your age: \"))\n",
        "print(f\"My name is {name} and my age is {age}\")"
      ],
      "metadata": {
        "colab": {
          "base_uri": "https://localhost:8080/"
        },
        "id": "gBr0P09JD1Nz",
        "outputId": "9c537909-6c76-4b5d-c593-8e03ace657b0"
      },
      "execution_count": 3,
      "outputs": [
        {
          "output_type": "stream",
          "name": "stdout",
          "text": [
            "Enter your name: abhishek\n",
            "Enter your age: 19\n",
            "My name is abhishek and my age is 19\n"
          ]
        }
      ]
    },
    {
      "cell_type": "code",
      "source": [
        "#Ques(3)\n",
        "#Write code to print all the pre-defined keywords in Python using the keyword\n",
        "#library?\n",
        "import keyword\n",
        "print(keyword.kwlist)\n"
      ],
      "metadata": {
        "colab": {
          "base_uri": "https://localhost:8080/"
        },
        "id": "6B-_QorUEA7o",
        "outputId": "8dd767ab-1736-46ec-b112-e1d81c74ae04"
      },
      "execution_count": 2,
      "outputs": [
        {
          "output_type": "stream",
          "name": "stdout",
          "text": [
            "['False', 'None', 'True', 'and', 'as', 'assert', 'async', 'await', 'break', 'class', 'continue', 'def', 'del', 'elif', 'else', 'except', 'finally', 'for', 'from', 'global', 'if', 'import', 'in', 'is', 'lambda', 'nonlocal', 'not', 'or', 'pass', 'raise', 'return', 'try', 'while', 'with', 'yield']\n"
          ]
        }
      ]
    },
    {
      "cell_type": "code",
      "source": [
        "#Ques(4)\n",
        "#Write a program that checks if a given word is a Python keyword?\n",
        "import keyword\n",
        "word=input(\"Enter a word: \")\n",
        "if keyword.iskeyword(word):\n",
        "  print(f\"{word} is a python keyword\")\n",
        "else:\n",
        "  print(f\"{word} is not a python keyword\")\n"
      ],
      "metadata": {
        "id": "ZWCUnuaiEQpB"
      },
      "execution_count": null,
      "outputs": []
    },
    {
      "cell_type": "code",
      "source": [
        "#Ques(5)\n",
        "# Create a list and tuple in Python, and demonstrate how attempting to change\n",
        "# an element works differently  for each\n",
        "\n"
      ],
      "metadata": {
        "id": "dKllXyCCEbeN"
      },
      "execution_count": null,
      "outputs": []
    },
    {
      "cell_type": "code",
      "source": [
        "#Ques(6)\n",
        "# Write a function to demonstrate the behavior of mutable and immutable arguments.\n"
      ],
      "metadata": {
        "id": "O-hq3ZYTFmTF"
      },
      "execution_count": null,
      "outputs": []
    },
    {
      "cell_type": "code",
      "source": [
        "#Ques(7)\n",
        "#. Write a program that performs basic arithmetic operations on two user-input\n",
        "#numbers.\n",
        "A = int(input(\"Enter a number: \"))\n",
        "B = int(input(\"Enter a number: \"))\n",
        "print(f\"Addition of {A} and {B} is {A+B}\")\n",
        "print(f\"Subtraction of {A} and {B} is {A-B}\")\n",
        "print(f\"Multiplication of {A} and {B} is {A*B}\")\n",
        "\n",
        "\n"
      ],
      "metadata": {
        "colab": {
          "base_uri": "https://localhost:8080/"
        },
        "id": "dtNQlN5vF9_u",
        "outputId": "221166d9-4a94-4f7d-facc-a924510c1e86"
      },
      "execution_count": 1,
      "outputs": [
        {
          "output_type": "stream",
          "name": "stdout",
          "text": [
            "Enter a number: 5\n",
            "Enter a number: 7\n",
            "Addition of 5 and 7 is 12\n",
            "Subtraction of 5 and 7 is -2\n",
            "Multiplication of 5 and 7 is 35\n"
          ]
        }
      ]
    },
    {
      "cell_type": "code",
      "source": [
        "#Ques(8)\n",
        "# Write a program to demonstrate the use of logical operators.\n",
        "A = 5\n",
        "B = 8\n",
        "print((A>B) and (A<B))\n",
        "print((A>B) or (A<B))\n"
      ],
      "metadata": {
        "colab": {
          "base_uri": "https://localhost:8080/"
        },
        "id": "7Fsff0IiGqR0",
        "outputId": "0a4923f8-f4c6-4c84-fc9d-b90a6b87ca88"
      },
      "execution_count": 5,
      "outputs": [
        {
          "output_type": "stream",
          "name": "stdout",
          "text": [
            "False\n",
            "True\n"
          ]
        }
      ]
    },
    {
      "cell_type": "code",
      "source": [
        "#Ques(9)\n",
        "\"\"\" Write a Python program to convert user input from string to integer, float,\n",
        " and boolean types.\n",
        "\"\"\"\n",
        "A = input(\"Enter a number:\")\n",
        "print(int(A))\n",
        "print(float(A))\n",
        "print(bool(A))\n",
        "\n"
      ],
      "metadata": {
        "colab": {
          "base_uri": "https://localhost:8080/"
        },
        "id": "mvloVDvvHoR7",
        "outputId": "19819b76-0130-4d74-8bed-2fcd8aff320d"
      },
      "execution_count": 7,
      "outputs": [
        {
          "output_type": "stream",
          "name": "stdout",
          "text": [
            "Enter a number:6\n",
            "6\n",
            "6.0\n",
            "True\n"
          ]
        }
      ]
    },
    {
      "cell_type": "code",
      "source": [
        "#Ques(10)\n",
        "\n",
        "# Write code to demonstrate type casting with list elements.\n",
        "A = [1,2,3,4,5]\n",
        "print(str(A))\n",
        "print(tuple(A))\n",
        "print(set(A))\n",
        "\n"
      ],
      "metadata": {
        "colab": {
          "base_uri": "https://localhost:8080/"
        },
        "id": "gGr-L7oJIUM4",
        "outputId": "a428be85-f1d1-4da9-de0c-2403a8291007"
      },
      "execution_count": 8,
      "outputs": [
        {
          "output_type": "stream",
          "name": "stdout",
          "text": [
            "[1, 2, 3, 4, 5]\n",
            "(1, 2, 3, 4, 5)\n",
            "{1, 2, 3, 4, 5}\n"
          ]
        }
      ]
    },
    {
      "cell_type": "code",
      "source": [
        "#Ques(11)\n",
        "#Write a program that checks if a number is positive, negative, or zero.\n",
        "num = int(input(\"Enter a number:\"))\n",
        "if num>0:\n",
        "  print(\"number is positive\")\n",
        "elif num<0:\n",
        "  print(\"number is negative\")\n",
        "\n",
        "else:\n",
        "  print(\"number is zero\")\n",
        "\n"
      ],
      "metadata": {
        "colab": {
          "base_uri": "https://localhost:8080/"
        },
        "id": "D8g2IYhXIuq0",
        "outputId": "e02fdfc6-bcfc-43b1-e411-85466ab8e7d4"
      },
      "execution_count": 9,
      "outputs": [
        {
          "output_type": "stream",
          "name": "stdout",
          "text": [
            "Enter a number:8\n",
            "number is positive\n"
          ]
        }
      ]
    },
    {
      "cell_type": "code",
      "source": [
        "#Ques(12)\n",
        "#Write a for loop to print numbers from 1 to 10.\n",
        "for i in range(1,11):\n",
        "  print(i)"
      ],
      "metadata": {
        "colab": {
          "base_uri": "https://localhost:8080/"
        },
        "id": "PNolWb-bJeRF",
        "outputId": "8ed6b6b1-9153-4682-a5c9-ff9603ececb7"
      },
      "execution_count": 10,
      "outputs": [
        {
          "output_type": "stream",
          "name": "stdout",
          "text": [
            "1\n",
            "2\n",
            "3\n",
            "4\n",
            "5\n",
            "6\n",
            "7\n",
            "8\n",
            "9\n",
            "10\n"
          ]
        }
      ]
    },
    {
      "cell_type": "code",
      "source": [
        "#Ques(13)\n",
        "# Write a Python program to find the sum of all even numbers between 1 and 50.\n",
        "total = 0\n",
        "for i in range(1,51):\n",
        "  if i%2==0:\n",
        "    total+=i\n",
        "print(\"The sum of all even number between 1 and 50 is \",total)"
      ],
      "metadata": {
        "colab": {
          "base_uri": "https://localhost:8080/"
        },
        "id": "EOe-YEYMJtRD",
        "outputId": "82490add-2848-4358-cd21-535f71d279ed"
      },
      "execution_count": 12,
      "outputs": [
        {
          "output_type": "stream",
          "name": "stdout",
          "text": [
            "The sum of all even number between 1 and 50 is  650\n"
          ]
        }
      ]
    },
    {
      "cell_type": "code",
      "source": [
        "#Ques(14)\n",
        "# Write a program to reverse a string using a while loop\n",
        "A = []"
      ],
      "metadata": {
        "id": "kctbCZQoLAAy"
      },
      "execution_count": null,
      "outputs": []
    },
    {
      "cell_type": "code",
      "source": [
        "#Ques(15)\n",
        "\"\"\"\n",
        " Write a Python program to calculate the factorial of a number provided by the\n",
        " user using a while loop\n",
        " \"\"\"\n",
        "num = int(input(\"Enter a number: \"))\n",
        "fact = 1\n",
        "while num>0:\n",
        "  fact*=num\n",
        "  num-=1\n",
        "print(fact)\n",
        ""
      ],
      "metadata": {
        "colab": {
          "base_uri": "https://localhost:8080/"
        },
        "id": "tq7OfYD8LcCr",
        "outputId": "584eadc4-7593-4699-c90c-da6f70a261af"
      },
      "execution_count": 16,
      "outputs": [
        {
          "output_type": "stream",
          "name": "stdout",
          "text": [
            "Enter a number: 8\n",
            "40320\n"
          ]
        }
      ]
    }
  ]
}